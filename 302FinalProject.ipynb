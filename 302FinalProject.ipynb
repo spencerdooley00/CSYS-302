{
  "cells": [
    {
      "cell_type": "code",
      "execution_count": null,
      "metadata": {
        "id": "gZ6iQ7kl_NFf"
      },
      "outputs": [],
      "source": [
        "# import \n",
        "import numpy as np\n",
        "import matplotlib.pyplot as plt\n",
        "import networkx as nx\n",
        "from itertools import count\n",
        "plt.rcParams[\"figure.figsize\"] = (14,8)\n"
      ]
    },
    {
      "cell_type": "code",
      "execution_count": null,
      "metadata": {
        "id": "oi-GeyiCIJ3F"
      },
      "outputs": [],
      "source": [
        "def build_multi_graph(num_individuals, states, relationships, pU, pA, pP, p_physical, p_virtual, physical_weight, virtual_weight, influencers, influencer_weight, edge_multiplier):\n",
        "  G = nx.MultiGraph()\n",
        "  # for each node (individual) in network...\n",
        "  for i in range(num_individuals):\n",
        "    # determine random state of individual\n",
        "    rand_state = np.random.choice(range(len(states)), 1, p=[pU, pA, pP])[0]\n",
        "    # add node to graoh wiht that random state\n",
        "    G.add_node(i, state = states[rand_state])\n",
        "\n",
        "  # adding edges (setting relationships between individuals)\n",
        "  for i in range(num_individuals*edge_multiplier):\n",
        "    # select 2 random individuals (indices) from the population\n",
        "    u = np.random.choice(range(num_individuals))\n",
        "    v = np.random.choice(range(num_individuals))\n",
        "\n",
        "    relationship = relationships[np.random.choice([0, 1], 1, p=[p_physical, p_virtual])[0]] # how should individuals be connected\n",
        "    if relationship == 'Physical':\n",
        "      weight = physical_weight\n",
        "    else:\n",
        "      weight = virtual_weight\n",
        "    if u != v and not(G.has_edge(u, v)):\n",
        "      G.add_weighted_edges_from([(u,v,weight)], relationsip=relationship)\n",
        "    elif u != v and G.has_edge(u, v):\n",
        "      relation = list(list(G.get_edge_data(u,v).values())[0].values())[0]\n",
        "      set_A = set(relationships)\n",
        "      set_B = {relation}\n",
        "      relationship = set_A.difference(set_B).pop()\n",
        "      G.add_weighted_edges_from([(u,v,weight)], relationsip=relationship)\n",
        "    else:\n",
        "      pass\n",
        "    \n",
        "\n",
        "  # randomly select 'influencer' nodes\n",
        "  for influencer in range(influencers):\n",
        "    random_influencer = np.random.randint(0, num_individuals)\n",
        "    G.nodes[random_influencer]['state'] = 'Participant'\n",
        "    # TO DO: determine range of num connections an influencer should have\n",
        "    num_connections = np.random.randint(int(num_individuals/2.5), num_individuals/1.25)\n",
        "    for i in range(num_connections):\n",
        "      random_connection = np.random.randint(0, num_individuals)\n",
        "      if random_connection != random_influencer: # influencers aren't influenced by themselves\n",
        "        G.add_weighted_edges_from([(random_influencer,random_connection,influencer_weight)], relationsip=relationships[np.random.choice([0, 1], 1, p=[p_physical, p_virtual])[0]])\n",
        "\n",
        "  return G\n",
        "\n",
        "\n",
        "  "
      ]
    },
    {
      "cell_type": "code",
      "execution_count": null,
      "metadata": {
        "id": "dOg32uxtcI_y"
      },
      "outputs": [],
      "source": [
        "def draw_graph(G):\n",
        "  # coloring nodes by unique state with no control over color-state matching\n",
        "  groups = set(nx.get_node_attributes(G,'state').values())\n",
        "  mapping = dict(zip(sorted(groups),count()))\n",
        "  node_colors = [mapping[G.nodes[n]['state']] for n in G.nodes()]\n",
        "\n",
        "  edge_colors = nx.get_edge_attributes(G,'relationship').values()\n",
        "  edge_colors=list(edge_colors)\n",
        "  d = dict([(y,x+1) for x,y in enumerate(sorted(set(edge_colors)))])\n",
        "  edge_colors = [d[x] for x in edge_colors]\n",
        "  nx.draw(G, with_labels=False, node_size=150, pos=nx.fruchterman_reingold_layout(G), node_color=node_colors, edge_color=edge_colors,cmap=plt.cm.Spectral_r)\n"
      ]
    },
    {
      "cell_type": "code",
      "execution_count": null,
      "metadata": {
        "id": "JOxvoJFxBZk7"
      },
      "outputs": [],
      "source": [
        "def get_weighted_influence(neighbor_states, edge_weights):\n",
        "  prob_aware = np.sum(edge_weights[np.where(neighbor_states == 'Aware')])/sum(edge_weights)\n",
        "  prob_unaware = np.sum(edge_weights[np.where(neighbor_states == 'Unaware')])/sum(edge_weights) \n",
        "  prob_participant = np.sum(edge_weights[np.where(neighbor_states == 'Participant')])/sum(edge_weights)\n",
        "\n",
        "  return prob_unaware, prob_aware, prob_participant"
      ]
    },
    {
      "cell_type": "code",
      "execution_count": null,
      "metadata": {
        "id": "tOAtYrAABk-6"
      },
      "outputs": [],
      "source": [
        "# New Complex Voter Model\n",
        "def run_complex_voter_model(T, G):\n",
        "  res = []\n",
        "  trend_popularity = count_states(G)[2]/G.number_of_nodes()\n",
        "  for t in range(T):\n",
        "    # choose random node and state to start\n",
        "    rand_node = np.random.randint(0, len(G.nodes()))\n",
        "    rand_node_state = G.nodes[rand_node]['state']\n",
        "    neighbor_states = np.array([])\n",
        "    edge_weights = np.array([])\n",
        "    # shift preferences\n",
        "    for neighbor in G.neighbors(rand_node):\n",
        "      neighbor_state = G.nodes[neighbor]['state']\n",
        "      edge_weight = G.get_edge_data(rand_node, neighbor)[0]['weight']\n",
        "      # if the neighbor is a participant, their influence is increased by a factor of the current(updating) trend popularity\n",
        "      if neighbor_state == 'Participating':\n",
        "        edge_weight = edge_weight*(1+trend_popularity)\n",
        "      neighbor_states = np.append(neighbor_states, neighbor_state)\n",
        "      edge_weights = np.append(edge_weights, edge_weight)\n",
        "    if rand_node_state == 'Aware' or rand_node_state == 'Participant':\n",
        "      edge_weights = np.delete(edge_weights,np.where(neighbor_states ==  'Unaware'))\n",
        "      neighbor_states = [value for value in neighbor_states if value != 'Unaware']\n",
        "      \n",
        "    if len(neighbor_states) != 0:\n",
        "      prob_unaware, prob_aware, prob_participant = get_weighted_influence(np.array(neighbor_states), edge_weights)\n",
        "      rand_state = np.random.choice(['Unaware', 'Aware', 'Participant'], 1, p=[prob_unaware, prob_aware, prob_participant])\n",
        "\n",
        "    elif len(neighbor_states) == 0:\n",
        "      rand_state = rand_node_state\n",
        "\n",
        "    G.nodes[rand_node]['state'] = rand_state\n",
        "    unaware_counter, aware_counter, participant_counter = count_states(G)\n",
        "    res.append((unaware_counter, aware_counter, participant_counter))\n",
        "    trend_popularity = count_states(G)[2]/G.number_of_nodes()\n",
        "  return G, res\n",
        "  \n"
      ]
    },
    {
      "cell_type": "code",
      "execution_count": null,
      "metadata": {
        "id": "gQ3TKSWPo1Gl"
      },
      "outputs": [],
      "source": [
        "# Initial Model\n",
        "def run_voter_model(T, G):\n",
        "  res = []\n",
        "  for t in range(T):\n",
        "    # choose random node and state to start\n",
        "    rand_node = np.random.randint(0, len(G.nodes()))\n",
        "    rand_node_state = G.nodes[rand_node]['state']\n",
        "    neighbor_states = np.array([])\n",
        "\n",
        "    # shift preferences\n",
        "    for neighbor in G.neighbors(rand_node):\n",
        "      neighbor_state = G.nodes[neighbor]['state']\n",
        "      neighbor_states=np.append(neighbor_states,neighbor_state)\n",
        "    if rand_node_state == 'Aware' or rand_node_state == 'Participant':\n",
        "      neighbor_states = [value for value in neighbor_states if value != 'Unaware']\n",
        "    if len(neighbor_states) == 0:\n",
        "      neighbor_states = np.append(neighbor_states, rand_node_state)\n",
        "  \n",
        "    \n",
        "    rand_state = np.random.randint(0, len(neighbor_states))\n",
        "    G.nodes[rand_node]['state'] = neighbor_states[rand_state]\n",
        "    unaware_counter, aware_counter, participant_counter = count_states(G)\n",
        "    res.append((unaware_counter, aware_counter, participant_counter))\n",
        "  return G, res\n",
        "  \n"
      ]
    },
    {
      "cell_type": "code",
      "execution_count": null,
      "metadata": {
        "id": "ft-VzlcJDsLn"
      },
      "outputs": [],
      "source": [
        "def count_states(G):\n",
        "  # get population information\n",
        "  unaware_counter = 0\n",
        "  aware_counter = 0 \n",
        "  participant_counter = 0\n",
        "  node_states = list(G.nodes(data='state'))\n",
        "  for i in range(len(node_states)):\n",
        "    node_state = list(G.nodes(data='state'))[i][1]\n",
        "    if node_state == 'Unaware':\n",
        "      unaware_counter+=1\n",
        "    if node_state == 'Aware':\n",
        "      aware_counter+=1\n",
        "    if node_state == 'Participant':\n",
        "      participant_counter+=1\n",
        "\n",
        "  return unaware_counter, aware_counter, participant_counter\n",
        "  \n"
      ]
    },
    {
      "cell_type": "code",
      "execution_count": null,
      "metadata": {
        "id": "ff-oI3uff-Dw"
      },
      "outputs": [],
      "source": [
        "def build_model(time_period):\n",
        "\n",
        "  num_individuals = 200\n",
        "  relationships = ['Physical', 'Virtual']\n",
        "  states = ['Unaware', 'Aware', 'Participant']\n",
        "\n",
        "  pU = .8\n",
        "  pA = .15\n",
        "  pP = .05\n",
        "\n",
        "\n",
        "  if time_period == 'Pre':\n",
        "    p_physical = .9\n",
        "    p_virtual = .1\n",
        "    influencers = 1\n",
        "    edge_multiplier = 3\n",
        "    virtual_weight = 1\n",
        "    physical_weight = 4\n",
        "    influencer_weight = 6\n",
        "  if time_period == 'Beginning':\n",
        "    p_physical = .6\n",
        "    p_virtual = .4\n",
        "    influencers = 6\n",
        "    edge_multiplier = 4\n",
        "    virtual_weight = 4\n",
        "    physical_weight = 4\n",
        "    influencer_weight = 10\n",
        "  if time_period == 'Current':\n",
        "    p_physical = .3\n",
        "    p_virtual = .7\n",
        "    influencers = 20\n",
        "    edge_multiplier = 5\n",
        "    virtual_weight = 8\n",
        "    physical_weight = 2\n",
        "    influencer_weight = 30\n",
        "\n",
        "  G = build_multi_graph(num_individuals, states, relationships, pU, pA, pP, p_physical, p_virtual, physical_weight, virtual_weight, influencers, influencer_weight, edge_multiplier)\n",
        "  return G\n",
        "\n",
        "  \n"
      ]
    },
    {
      "cell_type": "markdown",
      "metadata": {
        "id": "lBWXTRmZDRcn"
      },
      "source": [
        "Test Different Networks\n"
      ]
    },
    {
      "cell_type": "code",
      "execution_count": null,
      "metadata": {
        "id": "FurqG8Yz5DA_"
      },
      "outputs": [],
      "source": [
        "t1 = 'Pre'\n",
        "t2 = 'Beginning'\n",
        "t3 = 'Current'"
      ]
    },
    {
      "cell_type": "code",
      "execution_count": null,
      "metadata": {
        "colab": {
          "base_uri": "https://localhost:8080/"
        },
        "id": "y6wonoZQ5AFi",
        "outputId": "e341a683-32c5-4269-8004-cd901bbf47fc"
      },
      "outputs": [
        {
          "output_type": "stream",
          "name": "stdout",
          "text": [
            "100\n",
            "128\n",
            "189\n",
            "15\n",
            "186\n",
            "46\n",
            "112\n",
            "14\n",
            "158\n",
            "142\n",
            "87\n",
            "150\n",
            "20\n",
            "129\n",
            "114\n",
            "154\n",
            "66\n",
            "4\n",
            "129\n",
            "65\n"
          ]
        }
      ],
      "source": [
        "G = build_model(t3)"
      ]
    },
    {
      "cell_type": "code",
      "execution_count": null,
      "metadata": {
        "colab": {
          "base_uri": "https://localhost:8080/",
          "height": 483
        },
        "id": "h0LdWLHMmHth",
        "outputId": "30803486-f84c-472f-dd54-ed17cb75ee16"
      },
      "outputs": [
        {
          "output_type": "display_data",
          "data": {
            "image/png": "[encoded data removed]",
            "text/plain": [
              "<Figure size 1008x576 with 1 Axes>"
            ]
          },
          "metadata": {
            "needs_background": "light"
          }
        }
      ],
      "source": [
        "def plot_degree_dist(G):\n",
        "    degrees = [G.degree(n) for n in G.nodes()]\n",
        "    plt.hist(degrees)\n",
        "    plt.show()\n",
        "\n",
        "plot_degree_dist(G)"
      ]
    },
    {
      "cell_type": "code",
      "execution_count": null,
      "metadata": {
        "colab": {
          "base_uri": "https://localhost:8080/",
          "height": 530
        },
        "id": "o1_BbKaFYuyZ",
        "outputId": "7c96b121-17e1-44a4-c002-c933fbecd50c"
      },
      "outputs": [
        {
          "output_type": "execute_result",
          "data": {
            "text/plain": [
              "<matplotlib.legend.Legend at 0x7f6cb2117c50>"
            ]
          },
          "metadata": {},
          "execution_count": 118
        },
        {
          "output_type": "display_data",
          "data": {
            "image/png": "[encoded data removed]",
            "text/plain": [
              "<Figure size 1008x576 with 1 Axes>"
            ]
          },
          "metadata": {
            "needs_background": "light"
          }
        }
      ],
      "source": [
        "plt.rcParams[\"figure.figsize\"] = (14,8)\n",
        "T = 1000\n",
        "G, res = run_complex_voter_model(T, G)\n",
        "U, A, P = map(np.array, zip(*res))\n",
        "plt.plot(np.arange(0, T, 1), U, label = 'Unaware')\n",
        "plt.plot(np.arange(0, T, 1), A, label = 'Aware')\n",
        "plt.plot(np.arange(0, T, 1), P, label = 'Participating')\n",
        "plt.xlabel('Time Step')\n",
        "plt.ylabel('Number of Individuals')\n",
        "plt.title('Simulation on Beginning Social Media Network')\n",
        "plt.legend()"
      ]
    },
    {
      "cell_type": "code",
      "execution_count": null,
      "metadata": {
        "id": "LRFU6paAJ8Pg"
      },
      "outputs": [],
      "source": [
        ""
      ]
    }
  ],
  "metadata": {
    "colab": {
      "collapsed_sections": [],
      "name": "302FinalProject.ipynb",
      "provenance": []
    },
    "kernelspec": {
      "display_name": "Python 3",
      "name": "python3"
    },
    "language_info": {
      "name": "python"
    }
  },
  "nbformat": 4,
  "nbformat_minor": 0
}